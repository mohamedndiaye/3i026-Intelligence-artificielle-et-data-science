{
 "cells": [
  {
   "cell_type": "markdown",
   "metadata": {},
   "source": [
    "IA & Data science (3i026) -- 2018-2019\n",
    "--------\n",
    "*&copy; Equipe pédagogique: Manon Ansart, Vincent Guigue, Marie-Jeanne Lesot, Christophe Marsala, Olivier Schwander.*"
   ]
  },
  {
   "cell_type": "markdown",
   "metadata": {},
   "source": [
    "# TD-TME07: algorithmes d'apprentissage non-supervisé"
   ]
  },
  {
   "cell_type": "markdown",
   "metadata": {},
   "source": [
    "L'objectif de cette séance est d'implémenter des algorithmes d'apprentissage non-supervisé (cf. cours 8), en particulier, l'algorithme de classification hiérarchique."
   ]
  },
  {
   "cell_type": "markdown",
   "metadata": {},
   "source": [
    "<font size=\"+1\" color=\"RED\">**[Q]**</font> **Indiquer dans la boîte ci-dessous vos noms et prénoms :**"
   ]
  },
  {
   "cell_type": "markdown",
   "metadata": {},
   "source": [
    "Leygonie Rebecca Laouer Walid"
   ]
  },
  {
   "cell_type": "markdown",
   "metadata": {},
   "source": [
    "<font color=\"RED\" size=\"+1\">**[Q]**</font> **Renommer ce fichier ipython**\n",
    "\n",
    "Tout en haut de cette page, cliquer sur <tt>TD-TME07</tt> et rajouter à la suite de <tt>TD-TME07</tt> les noms des membres du binômes séparés par un tiret."
   ]
  },
  {
   "cell_type": "markdown",
   "metadata": {},
   "source": [
    "\n",
    "## Préparation"
   ]
  },
  {
   "cell_type": "markdown",
   "metadata": {},
   "source": [
    "L'archive récupérée avec ce fichier contient aussi le répertoire <code>data</code> qui contient les bases pour expérimenter vos fonctions."
   ]
  },
  {
   "cell_type": "markdown",
   "metadata": {},
   "source": [
    "Avant de commencer, exécuter le bloc suivant afin de pouvoir initialiser des variables utiles :"
   ]
  },
  {
   "cell_type": "code",
   "execution_count": 1,
   "metadata": {},
   "outputs": [],
   "source": [
    "import numpy as np\n",
    "import pandas as pd\n",
    "from datetime import datetime as dt\n",
    "import matplotlib.pyplot as plt\n",
    "%matplotlib inline  "
   ]
  },
  {
   "cell_type": "markdown",
   "metadata": {},
   "source": [
    "## Travail à réaliser"
   ]
  },
  {
   "cell_type": "markdown",
   "metadata": {},
   "source": [
    "Le travail à faire se décompose en 2 phases :\n",
    "- dans un premier temps, le travail porte sur la base d'apprentissage <code>base-2D.csv</code> qui contient des exemples décrits dans $R^2$. Ainsi, il est plus aisé de visualiser les résultats des fonctions à écrire ;\n",
    "- dans un second temps, les fonctions écrites dans la phase précédente sont à utiliser avec la base d'apprentissage \"base-Paris.csv\".\n",
    "\n",
    "**Attention**: vos fonctions doivent **dès leur création** pouvoir s'appliquer **quelle que soit la dimension** des exemples traités."
   ]
  },
  {
   "cell_type": "markdown",
   "metadata": {},
   "source": [
    "## Phase 1: implémentation des fonctions de base"
   ]
  },
  {
   "cell_type": "markdown",
   "metadata": {},
   "source": [
    "### Chargement du fichier \"base_2D.csv\""
   ]
  },
  {
   "cell_type": "markdown",
   "metadata": {},
   "source": [
    "La lecture d'un fichier CSV par <code>pd.read()</code> fournit un <code>DataFrame</code> que vous avez appris à manipuler dans les séances précédentes."
   ]
  },
  {
   "cell_type": "code",
   "execution_count": 2,
   "metadata": {},
   "outputs": [
    {
     "name": "stdout",
     "output_type": "stream",
     "text": [
      "Il y a 14 exemples dans la base.\n"
     ]
    }
   ],
   "source": [
    "# Par exemple:\n",
    "data_2D = pd.read_csv(\"data/base-2D.csv\")\n",
    "print(\"Il y a\", len(data_2D), \"exemples dans la base.\")"
   ]
  },
  {
   "cell_type": "markdown",
   "metadata": {},
   "source": [
    "<font size=\"+1\" color=\"RED\">**[Q]**</font> Exécuter le code suivant qui permet de réaliser une représentation graphique de cette base d'apprentissage.\n"
   ]
  },
  {
   "cell_type": "code",
   "execution_count": 3,
   "metadata": {},
   "outputs": [
    {
     "name": "stderr",
     "output_type": "stream",
     "text": [
      "/usr/local/lib/python3.5/dist-packages/ipykernel_launcher.py:1: FutureWarning: Method .as_matrix will be removed in a future version. Use .values instead.\n",
      "  \"\"\"Entry point for launching an IPython kernel.\n"
     ]
    },
    {
     "data": {
      "text/plain": [
       "<matplotlib.collections.PathCollection at 0x7f42cb8717b8>"
      ]
     },
     "execution_count": 3,
     "metadata": {},
     "output_type": "execute_result"
    },
    {
     "data": {
      "image/png": "[encoded data removed]",
      "text/plain": [
       "<Figure size 432x288 with 1 Axes>"
      ]
     },
     "metadata": {},
     "output_type": "display_data"
    }
   ],
   "source": [
    "M_data2D= data_2D.as_matrix()      # conversion du DataFrame en matrice pour la commande suivante\n",
    "colonne_X= M_data2D[0: , 0]        # récupération des valeurs de la première colonne\n",
    "colonne_Y= M_data2D[0: , 1]        # récupération des valeurs de la deuxième colonne\n",
    "plt.scatter(colonne_X, colonne_Y)  # affichage des points"
   ]
  },
  {
   "cell_type": "markdown",
   "metadata": {},
   "source": [
    "## Fonctions préliminaires"
   ]
  },
  {
   "cell_type": "markdown",
   "metadata": {},
   "source": [
    "### Normalisation des données"
   ]
  },
  {
   "cell_type": "markdown",
   "metadata": {},
   "source": [
    "<font size=\"+1\" color=\"RED\">**[Q]**</font> Ecrire la fonction <code>normalisation</code> qui prend en argument un <code>DataFrame</code> et rend la matrice obtenue en normalisant chaque colonne de ce <code>DataFrame</code> en appliquant la normalisation vue en cours.\n"
   ]
  },
  {
   "cell_type": "code",
   "execution_count": 4,
   "metadata": {},
   "outputs": [
    {
     "name": "stdout",
     "output_type": "stream",
     "text": [
      "colonne X : 0.0 7.0\n",
      "colonne Y : 1.0 6.0\n"
     ]
    }
   ],
   "source": [
    "for colonne in data_2D.columns:\n",
    "    print(\"colonne\", colonne, \":\", data_2D[colonne].min(), data_2D[colonne].max())"
   ]
  },
  {
   "cell_type": "code",
   "execution_count": 5,
   "metadata": {},
   "outputs": [
    {
     "name": "stdout",
     "output_type": "stream",
     "text": [
      "[[0.         0.6       ]\n",
      " [0.14285714 0.5       ]\n",
      " [0.14285714 0.        ]\n",
      " [0.28571429 0.        ]\n",
      " [0.28571429 0.2       ]\n",
      " [0.57142857 0.6       ]\n",
      " [0.57142857 0.8       ]\n",
      " [0.57142857 1.        ]\n",
      " [0.64285714 0.        ]\n",
      " [0.64285714 1.        ]\n",
      " [0.71428571 0.        ]\n",
      " [0.71428571 0.8       ]\n",
      " [0.85714286 0.2       ]\n",
      " [1.         0.6       ]]\n"
     ]
    },
    {
     "name": "stderr",
     "output_type": "stream",
     "text": [
      "/usr/local/lib/python3.5/dist-packages/ipykernel_launcher.py:2: FutureWarning: Method .as_matrix will be removed in a future version. Use .values instead.\n",
      "  \n"
     ]
    }
   ],
   "source": [
    "def normalisation(DataFrame):\n",
    "    Matrice_df = DataFrame.as_matrix()\n",
    "    for i, res  in enumerate(DataFrame.columns):\n",
    "        Matrice_df[:,i] = (Matrice_df[:,i]-DataFrame[res].min())/(DataFrame[res].max()-DataFrame[res].min())\n",
    "    return Matrice_df\n",
    "\n",
    "M_data2D = normalisation(data_2D)\n",
    "print(M_data2D)"
   ]
  },
  {
   "cell_type": "markdown",
   "metadata": {},
   "source": [
    "**[Q]** Normaliser les données de la base-2D et afficher leur représentation graphique: vérifier que le tracé est le même que celui obtenu avant la normalisation (aux valeurs des axes près)."
   ]
  },
  {
   "cell_type": "code",
   "execution_count": 6,
   "metadata": {},
   "outputs": [
    {
     "data": {
      "text/plain": [
       "array([0.        , 0.14285714, 0.14285714, 0.28571429, 0.28571429,\n",
       "       0.57142857, 0.57142857, 0.57142857, 0.64285714, 0.64285714,\n",
       "       0.71428571, 0.71428571, 0.85714286, 1.        ])"
      ]
     },
     "execution_count": 6,
     "metadata": {},
     "output_type": "execute_result"
    }
   ],
   "source": [
    "M_data2D[0: ,0]"
   ]
  },
  {
   "cell_type": "code",
   "execution_count": 7,
   "metadata": {},
   "outputs": [
    {
     "data": {
      "text/plain": [
       "<matplotlib.collections.PathCollection at 0x7f42c8038860>"
      ]
     },
     "execution_count": 7,
     "metadata": {},
     "output_type": "execute_result"
    },
    {
     "data": {
      "image/png": "[encoded data removed]",
      "text/plain": [
       "<Figure size 432x288 with 1 Axes>"
      ]
     },
     "metadata": {},
     "output_type": "display_data"
    }
   ],
   "source": [
    "colonne_X= M_data2D[0: , 0]        # récupération des valeurs de la première colonne\n",
    "colonne_Y= M_data2D[0: , 1]        # récupération des valeurs de la deuxième colonne\n",
    "plt.scatter(colonne_X, colonne_Y) "
   ]
  },
  {
   "cell_type": "markdown",
   "metadata": {},
   "source": [
    "### Distances entre exemples"
   ]
  },
  {
   "cell_type": "markdown",
   "metadata": {},
   "source": [
    "<font size=\"+1\" color=\"RED\">**[Q]**</font> Ecrire la fonction <code>dist_euclidienne_vect</code> qui prend en argument deux exemples sous la forme de vecteurs et rend leur distance euclidienne. "
   ]
  },
  {
   "cell_type": "code",
   "execution_count": 8,
   "metadata": {},
   "outputs": [],
   "source": [
    "def dist_euclidienne_vect(v1,v2):\n",
    "    return np.sqrt(sum(np.square(v1-v2)))"
   ]
  },
  {
   "cell_type": "code",
   "execution_count": 9,
   "metadata": {},
   "outputs": [
    {
     "name": "stdout",
     "output_type": "stream",
     "text": [
      "v1 :  [0.  0.6] \n",
      "v2 :  [0.14285714 0.5       ]\n",
      "distance euclidienne entre v1 et v2 :  0.17437936593905287\n"
     ]
    }
   ],
   "source": [
    "# Exemple d'utilisation sur les 2 premiers exemples de la base:\n",
    "v1= M_data2D[0,:]\n",
    "v2= M_data2D[1,:]\n",
    "print(\"v1 : \",v1, \"\\nv2 : \",v2)\n",
    "\n",
    "print(\"distance euclidienne entre v1 et v2 : \", dist_euclidienne_vect(v1,v2))"
   ]
  },
  {
   "cell_type": "markdown",
   "metadata": {},
   "source": [
    "<font size=\"+1\" color=\"RED\">**[Q]**</font> Ecrire la fonction <code>dist_manhattan_vect</code> qui prend en argument deux exemples et rend leur distance de Manhattan. "
   ]
  },
  {
   "cell_type": "code",
   "execution_count": 10,
   "metadata": {},
   "outputs": [],
   "source": [
    "def dist_manhattan_vect(v1,v2):\n",
    "    return sum(abs(v1-v2));"
   ]
  },
  {
   "cell_type": "code",
   "execution_count": 11,
   "metadata": {
    "scrolled": true
   },
   "outputs": [
    {
     "name": "stdout",
     "output_type": "stream",
     "text": [
      "v1 :  [0.  0.6] \n",
      "v2 :  [0.14285714 0.5       ]\n",
      "distance de Manhattan entre v1 et v2 :  0.24285714285714283\n"
     ]
    }
   ],
   "source": [
    "# Exemple d'utilisation sur les 2 premiers exemples de la base:\n",
    "v1= M_data2D[0,:]\n",
    "v2= M_data2D[1,:]\n",
    "print(\"v1 : \",v1, \"\\nv2 : \",v2)\n",
    "\n",
    "print(\"distance de Manhattan entre v1 et v2 : \", dist_manhattan_vect(v1,v2))"
   ]
  },
  {
   "cell_type": "markdown",
   "metadata": {},
   "source": [
    "<font size=\"+1\" color=\"RED\">**[Q]**</font> Ecrire la fonction <code>dist_vect</code> qui prend en argument une chaîne de caractères (soit la chaîne \"euclidienne\", soit \"manhattan\") ainsi que deux vecteurs et qui rend leur distance soit euclidienne, soit de Manhattan selon le cas."
   ]
  },
  {
   "cell_type": "code",
   "execution_count": 12,
   "metadata": {},
   "outputs": [],
   "source": [
    "def dist_vect(fonction,vecteur1,vecteur2):\n",
    "    if(fonction == \"euclidienne\"):\n",
    "        return dist_euclidienne_vect(vecteur1,vecteur2)\n",
    "    if(fonction == \"manhattan\"):\n",
    "        return dist_manhattan_vect(vecteur1,vecteur2)"
   ]
  },
  {
   "cell_type": "code",
   "execution_count": 13,
   "metadata": {
    "scrolled": true
   },
   "outputs": [
    {
     "name": "stdout",
     "output_type": "stream",
     "text": [
      "v1 :  [0.  0.6] \n",
      "v2 :  [0.14285714 0.5       ]\n",
      "distance  euclidienne  entre v1 et v2 :\t 0.17437936593905287\n",
      "distance  manhattan  entre v1 et v2 :\t 0.24285714285714283\n"
     ]
    }
   ],
   "source": [
    "v1= M_data2D[0,:]\n",
    "v2= M_data2D[1,:]\n",
    "print(\"v1 : \",v1, \"\\nv2 : \",v2)\n",
    "\n",
    "for nom in [\"euclidienne\", \"manhattan\"] :\n",
    "    print(\"distance \", nom, \" entre v1 et v2 :\\t\", dist_vect(nom,v1,v2))\n"
   ]
  },
  {
   "cell_type": "markdown",
   "metadata": {},
   "source": [
    "### Calcul de centroides"
   ]
  },
  {
   "cell_type": "markdown",
   "metadata": {},
   "source": [
    "<font size=\"+1\" color=\"RED\">**[Q]**</font> Ecrire la fonction <code>centroide</code> qui, étant donné une matrice représentant plusieurs exemples rend le centroide (calculé en faisant la moyenne de chaque composante des vecteurs de la matrice).\n",
    "On fait l'hypothèse que la matrice contient toujours au moins un exemple."
   ]
  },
  {
   "cell_type": "code",
   "execution_count": 14,
   "metadata": {},
   "outputs": [],
   "source": [
    "def centroide(matrice) :\n",
    "    centroides=[]\n",
    "    for i in range(2):\n",
    "        sum = 0\n",
    "        for j in range(len(matrice)):\n",
    "            sum += matrice[j][i]\n",
    "        centroides.append(1.0*sum / len(matrice))\n",
    "    \n",
    "    return centroides"
   ]
  },
  {
   "cell_type": "code",
   "execution_count": 15,
   "metadata": {},
   "outputs": [
    {
     "data": {
      "text/plain": [
       "array([[0.        , 0.6       ],\n",
       "       [0.14285714, 0.5       ],\n",
       "       [0.14285714, 0.        ],\n",
       "       [0.28571429, 0.        ],\n",
       "       [0.28571429, 0.2       ],\n",
       "       [0.57142857, 0.6       ],\n",
       "       [0.57142857, 0.8       ],\n",
       "       [0.57142857, 1.        ],\n",
       "       [0.64285714, 0.        ],\n",
       "       [0.64285714, 1.        ],\n",
       "       [0.71428571, 0.        ],\n",
       "       [0.71428571, 0.8       ],\n",
       "       [0.85714286, 0.2       ],\n",
       "       [1.        , 0.6       ]])"
      ]
     },
     "execution_count": 15,
     "metadata": {},
     "output_type": "execute_result"
    }
   ],
   "source": [
    "M_data2D"
   ]
  },
  {
   "cell_type": "code",
   "execution_count": 16,
   "metadata": {},
   "outputs": [
    {
     "name": "stdout",
     "output_type": "stream",
     "text": [
      "[0.14285714 0.5       ]\n"
     ]
    }
   ],
   "source": [
    "print(M_data2D[1])"
   ]
  },
  {
   "cell_type": "code",
   "execution_count": 17,
   "metadata": {},
   "outputs": [
    {
     "data": {
      "text/plain": [
       "[0.5102040816326531, 0.45]"
      ]
     },
     "execution_count": 17,
     "metadata": {},
     "output_type": "execute_result"
    }
   ],
   "source": [
    "centroide(M_data2D)"
   ]
  },
  {
   "cell_type": "markdown",
   "metadata": {},
   "source": [
    "### Distances entre groupes d'exemples\n"
   ]
  },
  {
   "cell_type": "markdown",
   "metadata": {},
   "source": [
    "La distance entre deux groupes d'exemples correspond à la distance entre leurs centroïdes (approche \"centroid linkage\").\n",
    "\n",
    "<font size=\"+1\" color=\"RED\">**[Q]**</font> Ecrire la fonction <code>dist_groupes</code> qui prend en argument une chaîne de caractères (soit \"euclidienne\", soit \"manhattan\") ainsi que deux groupes de vecteurs et qui rend leur distance soit euclidienne, soit de Manhattan selon le cas.\n"
   ]
  },
  {
   "cell_type": "code",
   "execution_count": 18,
   "metadata": {},
   "outputs": [],
   "source": [
    "def dist_groupes(distance,groupe1,groupe2):\n",
    "    centroide1 = centroide(groupe1)\n",
    "    centroide2 = centroide(groupe2)\n",
    "    return dist_vect(distance,centroide1,centroide2)"
   ]
  },
  {
   "cell_type": "code",
   "execution_count": 19,
   "metadata": {},
   "outputs": [
    {
     "ename": "TypeError",
     "evalue": "unsupported operand type(s) for -: 'list' and 'list'",
     "output_type": "error",
     "traceback": [
      "\u001b[0;31m---------------------------------------------------------------------------\u001b[0m",
      "\u001b[0;31mTypeError\u001b[0m                                 Traceback (most recent call last)",
      "\u001b[0;32m<ipython-input-19-c327ae6555b6>\u001b[0m in \u001b[0;36m<module>\u001b[0;34m()\u001b[0m\n\u001b[1;32m      1\u001b[0m \u001b[0;31m# par exemple :\u001b[0m\u001b[0;34m\u001b[0m\u001b[0;34m\u001b[0m\u001b[0m\n\u001b[0;32m----> 2\u001b[0;31m \u001b[0mdist_groupes\u001b[0m\u001b[0;34m(\u001b[0m\u001b[0;34m\"euclidienne\"\u001b[0m\u001b[0;34m,\u001b[0m \u001b[0mM_data2D\u001b[0m\u001b[0;34m[\u001b[0m\u001b[0;36m0\u001b[0m\u001b[0;34m:\u001b[0m\u001b[0;36m4\u001b[0m\u001b[0;34m]\u001b[0m\u001b[0;34m,\u001b[0m \u001b[0mM_data2D\u001b[0m\u001b[0;34m[\u001b[0m\u001b[0;36m5\u001b[0m\u001b[0;34m:\u001b[0m\u001b[0;36m13\u001b[0m\u001b[0;34m]\u001b[0m\u001b[0;34m)\u001b[0m\u001b[0;34m\u001b[0m\u001b[0m\n\u001b[0m",
      "\u001b[0;32m<ipython-input-18-9cb92a6f6817>\u001b[0m in \u001b[0;36mdist_groupes\u001b[0;34m(distance, groupe1, groupe2)\u001b[0m\n\u001b[1;32m      2\u001b[0m     \u001b[0mcentroide1\u001b[0m \u001b[0;34m=\u001b[0m \u001b[0mcentroide\u001b[0m\u001b[0;34m(\u001b[0m\u001b[0mgroupe1\u001b[0m\u001b[0;34m)\u001b[0m\u001b[0;34m\u001b[0m\u001b[0m\n\u001b[1;32m      3\u001b[0m     \u001b[0mcentroide2\u001b[0m \u001b[0;34m=\u001b[0m \u001b[0mcentroide\u001b[0m\u001b[0;34m(\u001b[0m\u001b[0mgroupe2\u001b[0m\u001b[0;34m)\u001b[0m\u001b[0;34m\u001b[0m\u001b[0m\n\u001b[0;32m----> 4\u001b[0;31m     \u001b[0;32mreturn\u001b[0m \u001b[0mdist_vect\u001b[0m\u001b[0;34m(\u001b[0m\u001b[0mdistance\u001b[0m\u001b[0;34m,\u001b[0m\u001b[0mcentroide1\u001b[0m\u001b[0;34m,\u001b[0m\u001b[0mcentroide2\u001b[0m\u001b[0;34m)\u001b[0m\u001b[0;34m\u001b[0m\u001b[0m\n\u001b[0m",
      "\u001b[0;32m<ipython-input-12-a6a963202d7e>\u001b[0m in \u001b[0;36mdist_vect\u001b[0;34m(fonction, vecteur1, vecteur2)\u001b[0m\n\u001b[1;32m      1\u001b[0m \u001b[0;32mdef\u001b[0m \u001b[0mdist_vect\u001b[0m\u001b[0;34m(\u001b[0m\u001b[0mfonction\u001b[0m\u001b[0;34m,\u001b[0m\u001b[0mvecteur1\u001b[0m\u001b[0;34m,\u001b[0m\u001b[0mvecteur2\u001b[0m\u001b[0;34m)\u001b[0m\u001b[0;34m:\u001b[0m\u001b[0;34m\u001b[0m\u001b[0m\n\u001b[1;32m      2\u001b[0m     \u001b[0;32mif\u001b[0m\u001b[0;34m(\u001b[0m\u001b[0mfonction\u001b[0m \u001b[0;34m==\u001b[0m \u001b[0;34m\"euclidienne\"\u001b[0m\u001b[0;34m)\u001b[0m\u001b[0;34m:\u001b[0m\u001b[0;34m\u001b[0m\u001b[0m\n\u001b[0;32m----> 3\u001b[0;31m         \u001b[0;32mreturn\u001b[0m \u001b[0mdist_euclidienne_vect\u001b[0m\u001b[0;34m(\u001b[0m\u001b[0mvecteur1\u001b[0m\u001b[0;34m,\u001b[0m\u001b[0mvecteur2\u001b[0m\u001b[0;34m)\u001b[0m\u001b[0;34m\u001b[0m\u001b[0m\n\u001b[0m\u001b[1;32m      4\u001b[0m     \u001b[0;32mif\u001b[0m\u001b[0;34m(\u001b[0m\u001b[0mfonction\u001b[0m \u001b[0;34m==\u001b[0m \u001b[0;34m\"manhattan\"\u001b[0m\u001b[0;34m)\u001b[0m\u001b[0;34m:\u001b[0m\u001b[0;34m\u001b[0m\u001b[0m\n\u001b[1;32m      5\u001b[0m         \u001b[0;32mreturn\u001b[0m \u001b[0mdist_manhattan_vect\u001b[0m\u001b[0;34m(\u001b[0m\u001b[0mvecteur1\u001b[0m\u001b[0;34m,\u001b[0m\u001b[0mvecteur2\u001b[0m\u001b[0;34m)\u001b[0m\u001b[0;34m\u001b[0m\u001b[0m\n",
      "\u001b[0;32m<ipython-input-8-0ad8d487e00b>\u001b[0m in \u001b[0;36mdist_euclidienne_vect\u001b[0;34m(v1, v2)\u001b[0m\n\u001b[1;32m      1\u001b[0m \u001b[0;32mdef\u001b[0m \u001b[0mdist_euclidienne_vect\u001b[0m\u001b[0;34m(\u001b[0m\u001b[0mv1\u001b[0m\u001b[0;34m,\u001b[0m\u001b[0mv2\u001b[0m\u001b[0;34m)\u001b[0m\u001b[0;34m:\u001b[0m\u001b[0;34m\u001b[0m\u001b[0m\n\u001b[0;32m----> 2\u001b[0;31m     \u001b[0;32mreturn\u001b[0m \u001b[0mnp\u001b[0m\u001b[0;34m.\u001b[0m\u001b[0msqrt\u001b[0m\u001b[0;34m(\u001b[0m\u001b[0msum\u001b[0m\u001b[0;34m(\u001b[0m\u001b[0mnp\u001b[0m\u001b[0;34m.\u001b[0m\u001b[0msquare\u001b[0m\u001b[0;34m(\u001b[0m\u001b[0mv1\u001b[0m\u001b[0;34m-\u001b[0m\u001b[0mv2\u001b[0m\u001b[0;34m)\u001b[0m\u001b[0;34m)\u001b[0m\u001b[0;34m)\u001b[0m\u001b[0;34m\u001b[0m\u001b[0m\n\u001b[0m",
      "\u001b[0;31mTypeError\u001b[0m: unsupported operand type(s) for -: 'list' and 'list'"
     ]
    }
   ],
   "source": [
    "# par exemple :\n",
    "dist_groupes(\"euclidienne\", M_data2D[0:4], M_data2D[5:13])"
   ]
  },
  {
   "cell_type": "code",
   "execution_count": 20,
   "metadata": {},
   "outputs": [
    {
     "data": {
      "text/plain": [
       "array([[0.        , 0.6       ],\n",
       "       [0.14285714, 0.5       ],\n",
       "       [0.14285714, 0.        ],\n",
       "       [0.28571429, 0.        ],\n",
       "       [0.28571429, 0.2       ],\n",
       "       [0.57142857, 0.6       ],\n",
       "       [0.57142857, 0.8       ],\n",
       "       [0.57142857, 1.        ],\n",
       "       [0.64285714, 0.        ],\n",
       "       [0.64285714, 1.        ],\n",
       "       [0.71428571, 0.        ],\n",
       "       [0.71428571, 0.8       ],\n",
       "       [0.85714286, 0.2       ],\n",
       "       [1.        , 0.6       ]])"
      ]
     },
     "execution_count": 20,
     "metadata": {},
     "output_type": "execute_result"
    }
   ],
   "source": [
    "M_data2D"
   ]
  },
  {
   "cell_type": "code",
   "execution_count": 21,
   "metadata": {},
   "outputs": [
    {
     "data": {
      "text/plain": [
       "array([[0.57142857, 0.6       ],\n",
       "       [0.57142857, 0.8       ],\n",
       "       [0.57142857, 1.        ],\n",
       "       [0.64285714, 0.        ],\n",
       "       [0.64285714, 1.        ],\n",
       "       [0.71428571, 0.        ],\n",
       "       [0.71428571, 0.8       ],\n",
       "       [0.85714286, 0.2       ]])"
      ]
     },
     "execution_count": 21,
     "metadata": {},
     "output_type": "execute_result"
    }
   ],
   "source": [
    "M_data2D[5:13]"
   ]
  },
  {
   "cell_type": "markdown",
   "metadata": {},
   "source": [
    "## L'algorithme de classification hiérarchique"
   ]
  },
  {
   "cell_type": "markdown",
   "metadata": {},
   "source": [
    "Dans la suite de cet exercice, une partition (qui est un groupe de clusters) est représentée par une structure de données de type dictionnaire (<code>dict()</code> en python) :\n",
    "- la clé est un numéro de cluster (sous la forme d'un entier naturel) ;\n",
    "- la valeur associée est une matrice contenant les exemples qui sont dans le cluster correspondant.\n",
    "\n",
    "On appelle \"partition\" un tel dictionnaire.\n"
   ]
  },
  {
   "cell_type": "markdown",
   "metadata": {},
   "source": [
    "<font size=\"+1\" color=\"RED\">**[Q]**</font> Ecrire la fonction <code>initialise</code> qui, étant donné une matrice M d'exemples, rend un dictionnaire contenant autant d'entrées que d'exemples dans M. Dans ce dictionnaire, une clé est numéro d'exemple (un entier compris entre 0 et n-1, le nombre d'exemples) et la valeur associée est une matrice d'exemples contenant un exemple de M."
   ]
  },
  {
   "cell_type": "code",
   "execution_count": 22,
   "metadata": {},
   "outputs": [],
   "source": [
    " def initialise(M):\n",
    "    dicti = {}\n",
    "    cpt=-1\n",
    "    for i in M:\n",
    "        cpt+=1\n",
    "        dicti[cpt] = [np.array(i)]\n",
    "    return dicti"
   ]
  },
  {
   "cell_type": "code",
   "execution_count": 23,
   "metadata": {},
   "outputs": [
    {
     "data": {
      "text/plain": [
       "{0: [array([0. , 0.6])],\n",
       " 1: [array([0.14285714, 0.5       ])],\n",
       " 2: [array([0.14285714, 0.        ])],\n",
       " 3: [array([0.28571429, 0.        ])],\n",
       " 4: [array([0.28571429, 0.2       ])],\n",
       " 5: [array([0.57142857, 0.6       ])],\n",
       " 6: [array([0.57142857, 0.8       ])],\n",
       " 7: [array([0.57142857, 1.        ])],\n",
       " 8: [array([0.64285714, 0.        ])],\n",
       " 9: [array([0.64285714, 1.        ])],\n",
       " 10: [array([0.71428571, 0.        ])],\n",
       " 11: [array([0.71428571, 0.8       ])],\n",
       " 12: [array([0.85714286, 0.2       ])],\n",
       " 13: [array([1. , 0.6])]}"
      ]
     },
     "execution_count": 23,
     "metadata": {},
     "output_type": "execute_result"
    }
   ],
   "source": [
    "# Par exemple:\n",
    "depart = initialise(M_data2D)\n",
    "# cette partition contient autant de clusters que d'exemples: on a un cluster par exemple.\n",
    "depart "
   ]
  },
  {
   "cell_type": "code",
   "execution_count": 24,
   "metadata": {},
   "outputs": [
    {
     "data": {
      "text/plain": [
       "array([[0.        , 0.6       ],\n",
       "       [0.14285714, 0.5       ],\n",
       "       [0.14285714, 0.        ],\n",
       "       [0.28571429, 0.        ],\n",
       "       [0.28571429, 0.2       ],\n",
       "       [0.57142857, 0.6       ],\n",
       "       [0.57142857, 0.8       ],\n",
       "       [0.57142857, 1.        ],\n",
       "       [0.64285714, 0.        ],\n",
       "       [0.64285714, 1.        ],\n",
       "       [0.71428571, 0.        ],\n",
       "       [0.71428571, 0.8       ],\n",
       "       [0.85714286, 0.2       ],\n",
       "       [1.        , 0.6       ]])"
      ]
     },
     "execution_count": 24,
     "metadata": {},
     "output_type": "execute_result"
    }
   ],
   "source": [
    "M_data2D"
   ]
  },
  {
   "cell_type": "markdown",
   "metadata": {},
   "source": [
    "### Variante 1: chaînage par centroides"
   ]
  },
  {
   "cell_type": "markdown",
   "metadata": {},
   "source": [
    "On souhaite implémenter ici l'algorithme de classification hiérarchique basé sur l'utilisation d'un chaînage par centroides (approche \"centroid linkage\").\n",
    "\n",
    "On commence par implémenter une fonction qui, étant donné une partition, permet de regrouper les 2 clusters les plus proches. Ces 2 clusters sont alors fusionnés pour n'en former qu'un seul qui est ajouté à la partition, alors que les 2 clusters initiaux sont retirés de la partition.\n",
    "On fait l'hypothèse que la partition initiale contient au moins 2 groupes.\n",
    "\n",
    "<font size=\"+1\" color=\"RED\">**[Q]**</font> Ecrire la fonction <code>fusionne</code> qui prend en argument un nom de distance (\"euclidienne\" ou \"manhattan\") et une partition C0 et qui rend 4 valeurs :\n",
    "- la partition C1 obtenue après fusion des 2 clusters les plus proches ;\n",
    "- les clés des 2 clusters de C0 qui ont été fusionnés et qui ont donc aussi été retirés de C1 ;\n",
    "- la distance qui séparait ces 2 clusters, calculée selon le nom de distance donné."
   ]
  },
  {
   "cell_type": "code",
   "execution_count": 29,
   "metadata": {},
   "outputs": [],
   "source": [
    "def fusionne(distance,C0):\n",
    "    Min = 1000\n",
    "    num1=-1\n",
    "    num2=-1\n",
    "    for ind1, clus1 in enumerate(C0):\n",
    "        for ind2, clus2 in enumerate(C0):\n",
    "            if Min<dist_vect(distance,clus1,clus2):\n",
    "           \n",
    "                Min=dist_groupes(distance,clus1,clus2)\n",
    "                num1=ind1\n",
    "                num2=ind2\n",
    "    return num1,num2, Min    "
   ]
  },
  {
   "cell_type": "code",
   "execution_count": 26,
   "metadata": {},
   "outputs": [
    {
     "ename": "TypeError",
     "evalue": "unsupported operand type(s) for -: 'list' and 'list'",
     "output_type": "error",
     "traceback": [
      "\u001b[0;31m---------------------------------------------------------------------------\u001b[0m",
      "\u001b[0;31mTypeError\u001b[0m                                 Traceback (most recent call last)",
      "\u001b[0;32m<ipython-input-26-47f42bcb2c18>\u001b[0m in \u001b[0;36m<module>\u001b[0;34m()\u001b[0m\n\u001b[1;32m      1\u001b[0m \u001b[0;31m# Par exemple:\u001b[0m\u001b[0;34m\u001b[0m\u001b[0;34m\u001b[0m\u001b[0m\n\u001b[1;32m      2\u001b[0m \u001b[0mdepart\u001b[0m \u001b[0;34m=\u001b[0m \u001b[0minitialise\u001b[0m\u001b[0;34m(\u001b[0m\u001b[0mM_data2D\u001b[0m\u001b[0;34m)\u001b[0m\u001b[0;34m\u001b[0m\u001b[0m\n\u001b[0;32m----> 3\u001b[0;31m \u001b[0mfusionne\u001b[0m\u001b[0;34m(\u001b[0m\u001b[0;34m\"euclidienne\"\u001b[0m\u001b[0;34m,\u001b[0m\u001b[0mdepart\u001b[0m\u001b[0;34m)\u001b[0m\u001b[0;34m\u001b[0m\u001b[0m\n\u001b[0m",
      "\u001b[0;32m<ipython-input-25-6e892269b990>\u001b[0m in \u001b[0;36mfusionne\u001b[0;34m(nom_function, C0)\u001b[0m\n\u001b[1;32m      8\u001b[0m             \u001b[0mMax\u001b[0m \u001b[0;34m=\u001b[0m \u001b[0mkey\u001b[0m\u001b[0;34m\u001b[0m\u001b[0m\n\u001b[1;32m      9\u001b[0m         \u001b[0;32mfor\u001b[0m \u001b[0mk\u001b[0m\u001b[0;34m,\u001b[0m \u001b[0mv\u001b[0m \u001b[0;32min\u001b[0m \u001b[0;34m[\u001b[0m\u001b[0;34m(\u001b[0m\u001b[0mke\u001b[0m\u001b[0;34m,\u001b[0m\u001b[0mva\u001b[0m\u001b[0;34m)\u001b[0m \u001b[0;32mfor\u001b[0m \u001b[0;34m(\u001b[0m\u001b[0mke\u001b[0m\u001b[0;34m,\u001b[0m\u001b[0mva\u001b[0m\u001b[0;34m)\u001b[0m \u001b[0;32min\u001b[0m \u001b[0mC0\u001b[0m\u001b[0;34m.\u001b[0m\u001b[0mitems\u001b[0m\u001b[0;34m(\u001b[0m\u001b[0;34m)\u001b[0m \u001b[0;32mif\u001b[0m\u001b[0;34m(\u001b[0m\u001b[0mke\u001b[0m\u001b[0;34m>\u001b[0m\u001b[0mkey\u001b[0m\u001b[0;34m)\u001b[0m\u001b[0;34m]\u001b[0m\u001b[0;34m:\u001b[0m\u001b[0;34m\u001b[0m\u001b[0m\n\u001b[0;32m---> 10\u001b[0;31m             \u001b[0mdist\u001b[0m \u001b[0;34m=\u001b[0m \u001b[0mdist_groupes\u001b[0m\u001b[0;34m(\u001b[0m\u001b[0mnom_function\u001b[0m\u001b[0;34m,\u001b[0m\u001b[0mval\u001b[0m\u001b[0;34m,\u001b[0m\u001b[0mv\u001b[0m\u001b[0;34m)\u001b[0m\u001b[0;34m\u001b[0m\u001b[0m\n\u001b[0m\u001b[1;32m     11\u001b[0m             \u001b[0;32mif\u001b[0m \u001b[0mdist\u001b[0m \u001b[0;34m<\u001b[0m \u001b[0mMin\u001b[0m\u001b[0;34m:\u001b[0m\u001b[0;34m\u001b[0m\u001b[0m\n\u001b[1;32m     12\u001b[0m                 \u001b[0mMin\u001b[0m \u001b[0;34m=\u001b[0m \u001b[0mdist\u001b[0m\u001b[0;34m\u001b[0m\u001b[0m\n",
      "\u001b[0;32m<ipython-input-18-9cb92a6f6817>\u001b[0m in \u001b[0;36mdist_groupes\u001b[0;34m(distance, groupe1, groupe2)\u001b[0m\n\u001b[1;32m      2\u001b[0m     \u001b[0mcentroide1\u001b[0m \u001b[0;34m=\u001b[0m \u001b[0mcentroide\u001b[0m\u001b[0;34m(\u001b[0m\u001b[0mgroupe1\u001b[0m\u001b[0;34m)\u001b[0m\u001b[0;34m\u001b[0m\u001b[0m\n\u001b[1;32m      3\u001b[0m     \u001b[0mcentroide2\u001b[0m \u001b[0;34m=\u001b[0m \u001b[0mcentroide\u001b[0m\u001b[0;34m(\u001b[0m\u001b[0mgroupe2\u001b[0m\u001b[0;34m)\u001b[0m\u001b[0;34m\u001b[0m\u001b[0m\n\u001b[0;32m----> 4\u001b[0;31m     \u001b[0;32mreturn\u001b[0m \u001b[0mdist_vect\u001b[0m\u001b[0;34m(\u001b[0m\u001b[0mdistance\u001b[0m\u001b[0;34m,\u001b[0m\u001b[0mcentroide1\u001b[0m\u001b[0;34m,\u001b[0m\u001b[0mcentroide2\u001b[0m\u001b[0;34m)\u001b[0m\u001b[0;34m\u001b[0m\u001b[0m\n\u001b[0m",
      "\u001b[0;32m<ipython-input-12-a6a963202d7e>\u001b[0m in \u001b[0;36mdist_vect\u001b[0;34m(fonction, vecteur1, vecteur2)\u001b[0m\n\u001b[1;32m      1\u001b[0m \u001b[0;32mdef\u001b[0m \u001b[0mdist_vect\u001b[0m\u001b[0;34m(\u001b[0m\u001b[0mfonction\u001b[0m\u001b[0;34m,\u001b[0m\u001b[0mvecteur1\u001b[0m\u001b[0;34m,\u001b[0m\u001b[0mvecteur2\u001b[0m\u001b[0;34m)\u001b[0m\u001b[0;34m:\u001b[0m\u001b[0;34m\u001b[0m\u001b[0m\n\u001b[1;32m      2\u001b[0m     \u001b[0;32mif\u001b[0m\u001b[0;34m(\u001b[0m\u001b[0mfonction\u001b[0m \u001b[0;34m==\u001b[0m \u001b[0;34m\"euclidienne\"\u001b[0m\u001b[0;34m)\u001b[0m\u001b[0;34m:\u001b[0m\u001b[0;34m\u001b[0m\u001b[0m\n\u001b[0;32m----> 3\u001b[0;31m         \u001b[0;32mreturn\u001b[0m \u001b[0mdist_euclidienne_vect\u001b[0m\u001b[0;34m(\u001b[0m\u001b[0mvecteur1\u001b[0m\u001b[0;34m,\u001b[0m\u001b[0mvecteur2\u001b[0m\u001b[0;34m)\u001b[0m\u001b[0;34m\u001b[0m\u001b[0m\n\u001b[0m\u001b[1;32m      4\u001b[0m     \u001b[0;32mif\u001b[0m\u001b[0;34m(\u001b[0m\u001b[0mfonction\u001b[0m \u001b[0;34m==\u001b[0m \u001b[0;34m\"manhattan\"\u001b[0m\u001b[0;34m)\u001b[0m\u001b[0;34m:\u001b[0m\u001b[0;34m\u001b[0m\u001b[0m\n\u001b[1;32m      5\u001b[0m         \u001b[0;32mreturn\u001b[0m \u001b[0mdist_manhattan_vect\u001b[0m\u001b[0;34m(\u001b[0m\u001b[0mvecteur1\u001b[0m\u001b[0;34m,\u001b[0m\u001b[0mvecteur2\u001b[0m\u001b[0;34m)\u001b[0m\u001b[0;34m\u001b[0m\u001b[0m\n",
      "\u001b[0;32m<ipython-input-8-0ad8d487e00b>\u001b[0m in \u001b[0;36mdist_euclidienne_vect\u001b[0;34m(v1, v2)\u001b[0m\n\u001b[1;32m      1\u001b[0m \u001b[0;32mdef\u001b[0m \u001b[0mdist_euclidienne_vect\u001b[0m\u001b[0;34m(\u001b[0m\u001b[0mv1\u001b[0m\u001b[0;34m,\u001b[0m\u001b[0mv2\u001b[0m\u001b[0;34m)\u001b[0m\u001b[0;34m:\u001b[0m\u001b[0;34m\u001b[0m\u001b[0m\n\u001b[0;32m----> 2\u001b[0;31m     \u001b[0;32mreturn\u001b[0m \u001b[0mnp\u001b[0m\u001b[0;34m.\u001b[0m\u001b[0msqrt\u001b[0m\u001b[0;34m(\u001b[0m\u001b[0msum\u001b[0m\u001b[0;34m(\u001b[0m\u001b[0mnp\u001b[0m\u001b[0;34m.\u001b[0m\u001b[0msquare\u001b[0m\u001b[0;34m(\u001b[0m\u001b[0mv1\u001b[0m\u001b[0;34m-\u001b[0m\u001b[0mv2\u001b[0m\u001b[0;34m)\u001b[0m\u001b[0;34m)\u001b[0m\u001b[0;34m)\u001b[0m\u001b[0;34m\u001b[0m\u001b[0m\n\u001b[0m",
      "\u001b[0;31mTypeError\u001b[0m: unsupported operand type(s) for -: 'list' and 'list'"
     ]
    }
   ],
   "source": [
    "# Par exemple:\n",
    "depart = initialise(M_data2D)\n",
    "fusionne(\"euclidienne\",depart)  "
   ]
  },
  {
   "cell_type": "markdown",
   "metadata": {},
   "source": [
    "### Construction de dendrogramme"
   ]
  },
  {
   "cell_type": "markdown",
   "metadata": {},
   "source": [
    "Le dendrogramme permet de visualiser les fusions de clusters réalisés tout au long du déroulement de l'algorithme de clustering hiérarchique.\n",
    "\n",
    "Pour construire un dendrogramme, il est nécessaire de construire la matrice suivante (que l'on appelle <code>M_Fusion</code> dans ce qui suit): pour chaque ligne, cette matrice contient 4 colonnes :\n",
    "- les 2 premières colonnes contiennent les clés des groupes fusionnés ;\n",
    "- la 3e colonne contient la distance qui séparait ces 2 groupes ;\n",
    "- la 4e colonne contient la valeur 2 (c'est une valeur sans importance pour nous).\n",
    " "
   ]
  },
  {
   "cell_type": "code",
   "execution_count": null,
   "metadata": {},
   "outputs": [],
   "source": [
    "# Exemple de construction de la matrice M_Fusion en utilisant les fonctions écrites\n",
    "# dans les questions précédentes\n",
    "\n",
    "# initialisation \n",
    "courant = initialise(M_data2D)       # clustering courant, au départ:s données data_2D normalisées\n",
    "M_Fusion = []                        # initialisation\n",
    "while len(courant) >=2:              # tant qu'il y a 2 groupes à fusionner\n",
    "    new,k1,k2,dist_min = fusionne('euclidienne',courant)\n",
    "    if(len(M_Fusion)==0):\n",
    "        M_Fusion = [k1,k2,dist_min,2]\n",
    "    else:\n",
    "        M_Fusion = np.vstack( [M_Fusion,[k1,k2,dist_min,2] ])\n",
    "    courant = new\n",
    "    \n",
    "print('\\nLa matrice M_Fusion obtenue :\\n',M_Fusion)"
   ]
  },
  {
   "cell_type": "markdown",
   "metadata": {},
   "source": [
    "Une fois la matrice <code>M_Fusion</code> construite, le tracé d'un histogramme s'effectue avec le code suivant :"
   ]
  },
  {
   "cell_type": "code",
   "execution_count": null,
   "metadata": {
    "scrolled": true
   },
   "outputs": [],
   "source": [
    "import scipy.cluster.hierarchy\n",
    "\n",
    "# Paramètre de la fenêtre d'affichage: \n",
    "plt.figure(figsize=(30, 15)) # taille : largeur x hauteur\n",
    "plt.title('Dendrogramme', fontsize=25)    \n",
    "plt.xlabel('Exemple', fontsize=25)\n",
    "plt.ylabel('Distance', fontsize=25)\n",
    "\n",
    "# Construction du dendrogramme à partir de la matrice M_Fusion:\n",
    "scipy.cluster.hierarchy.dendrogram(\n",
    "    M_Fusion,\n",
    "    leaf_font_size=18.,  # taille des caractères de l'axe des X\n",
    ")\n",
    "\n",
    "# Affichage du résultat obtenu:\n",
    "plt.show()"
   ]
  },
  {
   "cell_type": "markdown",
   "metadata": {},
   "source": [
    "<font size=\"+1\" color=\"RED\">**[Q]**</font> Ecrire la fonction <code>clustering_hierarchique</code> qui, pour une base d'apprentissage et un nom de distance donné, permet de réaliser un clustering hiérarchique et de tracer le dendrogramme obtenu.\n",
    "\n",
    "La fonction rend la matrice <code>M_Fusion</code> construite."
   ]
  },
  {
   "cell_type": "code",
   "execution_count": null,
   "metadata": {},
   "outputs": [],
   "source": []
  },
  {
   "cell_type": "markdown",
   "metadata": {},
   "source": [
    "### Comparaison de distances"
   ]
  },
  {
   "cell_type": "markdown",
   "metadata": {},
   "source": [
    "<font size=\"+1\" color=\"RED\">**[Q]**</font> Réaliser un clustering en utilisant la distance de Manhattan. Comparer les résultats obtenus avec cette distance avec ceux obtenus avec la distance euclidienne. Est-ce que l'utilisation de cette distance vous semble pertinent?"
   ]
  },
  {
   "cell_type": "code",
   "execution_count": null,
   "metadata": {},
   "outputs": [],
   "source": []
  },
  {
   "cell_type": "markdown",
   "metadata": {},
   "source": [
    "### Variante 2: chaînage complet (maximum des distances)"
   ]
  },
  {
   "cell_type": "markdown",
   "metadata": {},
   "source": [
    "On considère maintenant l'approche \"complete linkage\". \n",
    "\n",
    "<font size=\"+1\" color=\"RED\">**[Q]**</font> Ecrire la fonction <code>dist_max_groupes</code> qui, étant donné deux clusters, calcule leur distance ainsi définie. Cette fonction prend 3 arguments: un nom de distance à utiliser (\"euclidienne\" ou \"manhattan\") et deux clusters.\n",
    "On fait l'hypothèse que les 2 clusters contiennent au moins un exemple.\n"
   ]
  },
  {
   "cell_type": "code",
   "execution_count": null,
   "metadata": {},
   "outputs": [],
   "source": []
  },
  {
   "cell_type": "code",
   "execution_count": null,
   "metadata": {},
   "outputs": [],
   "source": [
    "dist_max_groupes(\"euclidienne\", M_data2D[0:5], M_data2D[6:13])"
   ]
  },
  {
   "cell_type": "markdown",
   "metadata": {},
   "source": [
    "La distance <code>dist_max_groupes</code> est utilisée lors d'un clustering hiérarchique basé sur un chaînage complet.\n",
    "\n",
    "<font size=\"+1\" color=\"RED\">**[Q]**</font> Implémenter une variante du clustering hiérarchique qui utilise cette distance."
   ]
  },
  {
   "cell_type": "markdown",
   "metadata": {},
   "source": [
    "## Phase 2 : application à des données réelles"
   ]
  },
  {
   "cell_type": "markdown",
   "metadata": {},
   "source": [
    "### Données: traitement des déchets de la ville de Paris"
   ]
  },
  {
   "cell_type": "markdown",
   "metadata": {},
   "source": [
    "Récupérer les données concernant le traitement des déchets de la ville de Paris :\n",
    "http://opendata.paris.fr/explore/dataset/tonnages_des_dechets_bacs_jaunes/table/\n",
    "\n",
    "**Attention**: il faut certainement préparer cette base afin de pouvoir appliquer l'algorithme de clustering: en particulier, certaines colonnes (Granularité, Total...) ne sont pas à utilisables dans le calcul des distances, il faut donc les éliminer. Il faut aussi prévoir de conserver le nom de l'arrondissement afin de pouvoir à la fin analyser le résultat du clustering.\n",
    "\n",
    "Sauvegarder ces données, prêtes à être traitées par l'algorithme de clustering, au format CSV dans le répertoire <pre>data/</pre> sous le nom <pre>base-Paris.csv</pre>\n",
    "\n",
    "<font size=\"+1\" color=\"RED\">**[Q]**</font> Etudier cette base et les clusters qui peuvent être mis en évidence.\n"
   ]
  },
  {
   "cell_type": "code",
   "execution_count": null,
   "metadata": {},
   "outputs": [],
   "source": [
    "data_Paris = pd.read_csv(\"data/base-Paris.csv\")"
   ]
  },
  {
   "cell_type": "code",
   "execution_count": null,
   "metadata": {},
   "outputs": [],
   "source": [
    "data_Paris.head(-1)"
   ]
  },
  {
   "cell_type": "markdown",
   "metadata": {
    "collapsed": true
   },
   "source": [
    "<font size=\"+1\" color=\"RED\">**[Q]**</font> Préparer un rapport d'analyse (c'est-à-dire, compléter votre notebook en rajoutant à la suite tout un ensemble d'expérimentations et de résultats obtenus sur la base) réalisé sur cette base qui mette en évidence les clusters existants à différents niveaux de distance, et en utilisant différentes distances.\n"
   ]
  },
  {
   "cell_type": "code",
   "execution_count": null,
   "metadata": {},
   "outputs": [],
   "source": []
  },
  {
   "cell_type": "markdown",
   "metadata": {},
   "source": [
    "## Questions de cours (à faire chez vous, sur papier)\n",
    "\n",
    "Pour vous entraîner sans machine...\n",
    "\n",
    "<font color=\"RED\" size=\"+1\">**[Q]**</font> Montrer que la distance de Manhattan est bien une mesure de distance.\n",
    "\n",
    "<font color=\"RED\" size=\"+1\">**[Q]**</font> Dans le cours, 4 approches possibles ont été données afin de calculer la distance entre 2 groupes :\n",
    "- l'approche du chaînage minimum est appelée \"simple linkage\"\n",
    "- l'approche du chaînage maximum, est appelée \"complete linkage\"\n",
    "- l'approche du chaînage moyenne est appelée \"average linkage\"\n",
    "- l'approche du par centre de gravité est appelée \"centroid linkage\"\n",
    "\n",
    "On considère une mesure de distance $d$. Soit $A =\\{a_1,a_2,...,a_{|A|}\\}$ et $B =\\{b_1,b_2,...,b_{|B|}\\}$ deux groupes d'exemples. Donner l'expression de la distance entre $A$ et $B$ pour chacune des approches.\n",
    "\n",
    "\n",
    "<font color=\"RED\" size=\"+1\">**[Q]**</font> En utilisant la distance euclidienne et l'approche \"centroid linkage\", appliquer, \"à la main\", l'algorithme de clustering hiérarchique, méthode par agglomération, sur les données fournies sur le transparent 10 du cours 2 (coin haut gauche). Dans cette page, les données correspondent à 9 points dans un espace 2D: $X_1 \\times X_2$. Le point 1 est le point de coordonnées $(-0.5, -1.0)$, etc. \n",
    "Construire le dendrogramme correspondant.\n",
    "\n",
    "rem : dans la page du cours, les 3 premiers clusters construits sont donnés.\n",
    "\n",
    "\n",
    "<font color=\"RED\" size=\"+1\">**[Q]**</font> *(examen 2018)*\n",
    "On considère la base d'apprentissage de $[0,10]\\times [0,10]$ contenant les 7 exemples suivants: $\\mathcal{X}=\\{(1,2)$, $(1,4)$, $(3,4)$, $(3,5)$, $(6,2)$, $(6,5)$, $(8,3)\\}$ (remarque: cette base est déjà normalisée).\n",
    "En détaillant les étapes et en expliquant les calculs réalisés et les regroupements effectués, appliquer sur $\\mathcal{X}$ l'algorithme de classification hiérarchique, version ascendante, en utilisant l'approche ``centroid linkage'' et la distance euclidienne.  Donner le dendrogramme obtenu.\n",
    "<font color=\"RED\" size=\"+1\">**[Q]**</font> Si on rajoute l'exemple $(5,5)$ dans $\\mathcal{X}$ de la question précédente, sans ré-appliquer l'algorithme donner, en les justifiant, les modifications apportées au dendrogramme précédent par l'ajout de cet exemple."
   ]
  },
  {
   "cell_type": "code",
   "execution_count": null,
   "metadata": {},
   "outputs": [],
   "source": []
  }
 ],
 "metadata": {
  "kernelspec": {
   "display_name": "Python 3",
   "language": "python",
   "name": "python3"
  },
  "language_info": {
   "codemirror_mode": {
    "name": "ipython",
    "version": 3
   },
   "file_extension": ".py",
   "mimetype": "text/x-python",
   "name": "python",
   "nbconvert_exporter": "python",
   "pygments_lexer": "ipython3",
   "version": "3.5.3"
  }
 },
 "nbformat": 4,
 "nbformat_minor": 1
}
